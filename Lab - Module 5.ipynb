{
 "metadata": {
  "kernelspec": {
   "display_name": "Python 2",
   "language": "python",
   "name": "python2"
  },
  "language_info": {
   "codemirror_mode": {
    "name": "ipython",
    "version": 2
   },
   "file_extension": ".py",
   "mimetype": "text/x-python",
   "name": "python",
   "nbconvert_exporter": "python",
   "pygments_lexer": "ipython2",
   "version": "2.7.11"
  },
  "name": "",
  "signature": "sha256:3aca2ae983b525a43ddc165974645c86fea3ee5e4a1a1b1240fa92f42d91f44b"
 },
 "nbformat": 3,
 "nbformat_minor": 0,
 "worksheets": [
  {
   "cells": [
    {
     "cell_type": "markdown",
     "metadata": {},
     "source": [
      "# Module 5 Lab - Data 101\n",
      "\n",
      "## Directions\n",
      "1. Show all work/steps/calculations. If it is easier to write it out by hand, do so and submit a scanned PDF in addition to this notebook. Otherwise, generate a Markdown cell for each answer.\n",
      "2. You must submit to **two** places by the deadline:\n",
      "    1. In the Lab section of the Course Module where you downloaded this file from, and\n",
      "    2. In your Lab Discussion Group, in the forum for the appropriate Module.\n",
      "    \n",
      "    (For this assignment, zip all 3 files: `Lab - Module 5.ipynb`, `hurricanes.py` and `hurricane.db` up before submitting to either place).\n",
      "    \n",
      "3. You may use any core Python libraries or Numpy/Scipy. **Additionally, code from the Module notebooks and lectures is fair to use and modify.** You may also consult Stackoverflow (SO). If you use something from SO, please place a comment with the URL to document the code."
     ]
    },
    {
     "cell_type": "markdown",
     "metadata": {},
     "source": [
      "## Getting and Storing Data\n",
      "\n",
      "This lab is a test of your data munging skills. There is an individual part (that you should do by Thursday) and a group part although everything is up for discussion.\n",
      "\n",
      "### Basic Outline\n",
      "\n",
      "1. Using curl or wget obtain a local copy of the following web page: Atlantic Hurricane Season (https://en.wikipedia.org/wiki/Atlantic_hurricane_season).\n",
      "2. Using Beautiful Soup 4 and Python, parse the HTML file into a useable dataset.\n",
      "3. Write this data set to a SQLite3 database called `hurricanes.db`\n",
      "4. Run some queries against the data set.\n",
      "\n",
      "### Details\n",
      "\n",
      "The data is contained in many separate tables. The challenge is to write a general table parsing function and then locate each table and apply the function to it. You only need to get the data from the tables starting at 1850s. Not all years have the same data. You only need to save the following columns. The name is parentheses is the name the column should have in the database table.\n",
      "\n",
      "Year (year)\n",
      "Number of tropical storms (tropical_storms)\n",
      "Number of hurricanes (hurricanes)\n",
      "Number of Major Hurricanes (major_hurricanes)\n",
      "Deaths (deaths)\n",
      "Damage (damage)\n",
      "Notes (notes)\n",
      "\n",
      "Note that \"Damage\" doesn't start until 1900s and \"Notes\" was added in 1880s. \"Strongest Storm\" should be added to the Notes column (even in years that didn't have Notes) as should \"Retired Storms\". The name of the database table should be atlantic_hurricanes. The name of the table file (SQLite3 uses a file) should be hurricanes.db (who knows...you might need to add Pacific storms someday).\n",
      "\n",
      "There are a number of parsing problems which will most likely require regular expressions. First, the Deaths column has numbers that include commas and entries that are not numbers (Unknown and None). How should you code Unknown and None so that answers are not misleading but queries are still fairly straightforward to write?\n",
      "\n",
      "Similarly, Damages has numbers with commas, currency signs and different amount words (millions, billions). How will you normalize all of these so that a query can compare them?\n",
      "\n",
      "Additionally, the way that Tropical Storms are accounted for seems to change mysteriously. Looking over the data, it's not immediately apparent when the interpretation should change. 1850s, 1860s definitely but 1870s? Not sure. It could just be a coincidence that there were never more hurricanes than tropical storms which seems to be the norm but see, for example, 1975. Welcome to Data Science!\n",
      "\n",
      "You should put your parsing code in `hurricanes.py`."
     ]
    },
    {
     "cell_type": "markdown",
     "metadata": {},
     "source": [
      "### Queries\n",
      "\n",
      "When you are done, you must write and execute 5 queries against your database. Those queries should be run from this notebook. Find the documentation for using SQLite3 from Python (the library is already included).\n",
      "\n",
      "1\\. What year had the most tropical storms?"
     ]
    },
    {
     "cell_type": "code",
     "collapsed": true,
     "input": [
      "import sqlite3\n",
      "\n",
      "conn = sqlite3.connect('/home/gtaylor5/Desktop/atlantic_hurricanes.db')\n",
      "c = conn.cursor()\n",
      "tropicals = c.execute('SELECT * from hurricanes where tropicalstorms = (select MAX(tropicalstorms) FROM hurricanes);')\n",
      "for i in tropicals:\n",
      "    print i"
     ],
     "language": "python",
     "metadata": {},
     "outputs": [
      {
       "output_type": "stream",
       "stream": "stdout",
       "text": [
        "(2005, 28, 15, 7, 2280, 159000, u\"Strongest Storm: Wilma Retired Names: Dennis, Katrina, Rita, Stan, Wilma Notes: Costliest season on record\\nSeason holds most activity records, including cyclones, storms, hurricanes, major hurricanes and Category 5's (4)\\nMost retired names\\nFirst year to use the Greek alphabet.\\nIncludes 1 Subtropical storm and 1 Subtropical depression.\")\n"
       ]
      }
     ],
     "prompt_number": 1
    },
    {
     "cell_type": "markdown",
     "metadata": {},
     "source": [
      "2\\. What year had the most major hurricanes?"
     ]
    },
    {
     "cell_type": "code",
     "collapsed": true,
     "input": [
      "major = c.execute('SELECT * from hurricanes where majorhurricanes = (select MAX(majorhurricanes) FROM hurricanes);')\n",
      "for i in major:\n",
      "    print i"
     ],
     "language": "python",
     "metadata": {},
     "outputs": [
      {
       "output_type": "stream",
       "stream": "stdout",
       "text": [
        "(2001, 17, 15, 9, 4, 0.000105, u'Strongest Storm: $7.1\\xa0billion Retired Names: Michelle Notes: Allison, Iris, Michelle')\n"
       ]
      }
     ],
     "prompt_number": 2
    },
    {
     "cell_type": "markdown",
     "metadata": {},
     "source": [
      "3\\. What year had the most deaths?"
     ]
    },
    {
     "cell_type": "code",
     "collapsed": true,
     "input": [
      "deaths = c.execute('SELECT * from hurricanes where deaths = (select MAX(deaths) FROM hurricanes);')\n",
      "for i in deaths:\n",
      "    print i"
     ],
     "language": "python",
     "metadata": {},
     "outputs": [
      {
       "output_type": "stream",
       "stream": "stdout",
       "text": [
        "(1998, 14, 10, 3, 12000, 12200, u'Strongest Storm: Mitch Retired Names: Georges, Mitch Notes: Four simultaneous hurricanes on September 26, the first time since 1893\\nHurricane Mitch was the deadliest hurricane in over 200\\xa0years')\n"
       ]
      }
     ],
     "prompt_number": 3
    },
    {
     "cell_type": "markdown",
     "metadata": {},
     "source": [
      "4\\. What year had the most damage (not inflation adjusted)?"
     ]
    },
    {
     "cell_type": "code",
     "collapsed": true,
     "input": [
      "damage = c.execute('SELECT * from hurricanes where damage = (select MAX(damage) FROM hurricanes);')\n",
      "for i in damage:\n",
      "    print i"
     ],
     "language": "python",
     "metadata": {},
     "outputs": [
      {
       "output_type": "stream",
       "stream": "stdout",
       "text": [
        "(2005, 28, 15, 7, 2280, 159000, u\"Strongest Storm: Wilma Retired Names: Dennis, Katrina, Rita, Stan, Wilma Notes: Costliest season on record\\nSeason holds most activity records, including cyclones, storms, hurricanes, major hurricanes and Category 5's (4)\\nMost retired names\\nFirst year to use the Greek alphabet.\\nIncludes 1 Subtropical storm and 1 Subtropical depression.\")\n"
       ]
      }
     ],
     "prompt_number": 4
    },
    {
     "cell_type": "markdown",
     "metadata": {},
     "source": [
      "5\\. What year had the highest proportion of tropical storms turn into major hurricanes?"
     ]
    },
    {
     "cell_type": "code",
     "collapsed": true,
     "input": [
      "damage = c.execute('SELECT * from hurricanes where (select MAX(majorhurricanes/tropicalstorms) FROM hurricanes);')\n",
      "for i in damage:\n",
      "    print i"
     ],
     "language": "python",
     "metadata": {},
     "outputs": [
      {
       "output_type": "stream",
       "stream": "stdout",
       "text": [
        "(1850, 0, 3, 0, 0, 0, u'Strongest Storm: One')\n",
        "(1851, 6, 3, 1, 24, 0, u'Strongest Storm: Four')\n",
        "(1852, 5, 5, 1, 100, 0, u'Strongest Storm: One')\n",
        "(1853, 8, 4, 2, 40, 0, u'Strongest Storm: Three')\n",
        "(1854, 5, 3, 1, 30, 0, u'Strongest Storm: Three')\n",
        "(1855, 5, 4, 1, 0, 0, u'Strongest Storm: Five')\n",
        "(1856, 6, 4, 2, 200, 0, u'Strongest Storm: One')\n",
        "(1857, 4, 3, 0, 424, 0, u'Strongest Storm: Two & Four')\n",
        "(1858, 6, 6, 0, 0, 0, u'Strongest Storm: Three & Six')\n",
        "(1859, 8, 7, 1, 0, 0, u'Strongest Storm: Six')\n",
        "(1860, 1, 5, 1, 60, 0, u'Strongest Storm: One')\n",
        "(1861, 2, 6, 0, 22, 0, u'Strongest Storm: One and Three')\n",
        "(1862, 3, 3, 0, 3, 0, u'Strongest Storm: Two and Three')\n",
        "(1863, 4, 5, 0, 90, 0, u'Strongest Storm: One, Two, Three & Four')\n",
        "(1864, 2, 3, 0, 0, 0, u'Strongest Storm: One, Three & Five')\n",
        "(1865, 4, 3, 0, 326, 0, u'Strongest Storm: Four & Seven')\n",
        "(1866, 1, 5, 1, 383, 0, u'Strongest Storm: Six')\n",
        "(1867, 2, 6, 0, 811, 0, u\"Strongest Storm: 'San Narciso'\")\n",
        "(1868, 1, 3, 0, 2, 0, u'Strongest Storm: One, Two & Four')\n",
        "(1869, 3, 6, 1, 38, 0, u'Strongest Storm: Six')\n",
        "(1870, 11, 10, 2, 2052, 0, u'Strongest Storm: Four')\n",
        "(1871, 8, 6, 2, 30, 0, u'Strongest Storm: Three and Four')\n",
        "(1872, 5, 4, 0, 0, 0, u'Strongest Storm: Two')\n",
        "(1873, 5, 3, 2, 626, 0, u'Strongest Storm: Five')\n",
        "(1874, 7, 4, 0, 0, 0, u'Strongest Storm: Seven')\n",
        "(1875, 6, 5, 1, 800, 0, u'Strongest Storm: Three')\n",
        "(1876, 5, 4, 2, 19, 0, u'Strongest Storm: \"San Felipe\"')\n",
        "(1877, 8, 3, 1, 34, 0, u'Strongest Storm: Four')\n",
        "(1878, 12, 10, 1, 108, 0, u'Strongest Storm: Seven')\n",
        "(1879, 8, 6, 2, 47, 0, u'Strongest Storm: Four')\n",
        "(1880, 11, 9, 2, 133, 0, u'Strongest Storm: Eight Notes: ')\n",
        "(1881, 7, 4, 0, 700, 0, u'Strongest Storm: Five and Six Notes: ')\n",
        "(1882, 6, 5, 2, 6, 0, u'Strongest Storm: Six Notes: ')\n",
        "(1883, 4, 3, 2, 236, 0, u'Strongest Storm: Two and Three Notes: ')\n",
        "(1884, 4, 4, 1, 8, 0, u'Strongest Storm: Two Notes: ')\n",
        "(1885, 8, 6, 1, 25, 0, u'Strongest Storm: Two Notes: ')\n",
        "(1886, 12, 10, 4, 200, 0, u'Strongest Storm: \"Indianola\" Notes: Seven hurricanes struck the United States, the most during a single year[14]')\n",
        "(1887, 19, 11, 2, 2, 0, u'Strongest Storm: Seven Notes: Tied for third most active season on record\\nHas the most storms forming outside the normal hurricane season\\nOne of only 4 seasons to have both a preseason and postseason storm')\n",
        "(1888, 9, 6, 2, 924, 0, u'Strongest Storm: Three and Four Notes: ')\n",
        "(1889, 9, 6, 0, 40, 0, u'Strongest Storm: Six Notes: ')\n",
        "(1890, 4, 2, 1, 9, 0, u'Strongest Storm: Three Notes: ')\n",
        "(1891, 10, 7, 1, 700, 0, u'Strongest Storm: \"Martinique\" Notes: ')\n",
        "(1892, 9, 5, 0, 16, 0, u'Strongest Storm: Three, Five, and Seven Notes: ')\n",
        "(1893, 12, 10, 5, 4028, 0, u'Strongest Storm: \"Cheniere Caminada\" Notes: Two hurricanes caused more than 2,000\\xa0deaths in the United States\\nFour simultaneous hurricanes on August 22, one of two times on record')\n",
        "(1894, 7, 5, 4, 200, 0, u'Strongest Storm: Six Notes: ')\n",
        "(1895, 6, 2, 0, 56, 0, u'Strongest Storm: Two Notes: ')\n",
        "(1896, 7, 6, 2, 130, 0, u'Strongest Storm: Four Notes: ')\n",
        "(1897, 6, 3, 0, 0, 0, u'Strongest Storm: One Notes: ')\n",
        "(1898, 11, 5, 1, 562, 0, u'Strongest Storm: \"Georgia Notes: ')\n",
        "(1899, 9, 5, 2, 3439, 0, u'Strongest Storm: \"San Ciriaco\" Notes: The San Ciriaco hurricane was the longest lasting Atlantic hurricane on record')\n",
        "(1900, 7, 3, 2, 8000, 60, u'Strongest Storm: \"Galveston\" Notes: The Galveston hurricane was the deadliest disaster in the United States')\n",
        "(1901, 12, 5, 1, 10, 1, u'Strongest Storm: Seven Notes: ')\n",
        "(1902, 5, 3, 0, 0, 1e-06, u'Strongest Storm: Four Notes: ')\n",
        "(1903, 10, 7, 1, 228, 1.15, u'Strongest Storm: Two Notes: ')\n",
        "(1904, 5, 3, 0, 87, 1, u'Strongest Storm: Two Notes: ')\n",
        "(1905, 5, 1, 1, 1, 1e-06, u'Strongest Storm: Four Notes: ')\n",
        "(1906, 11, 6, 3, 367, 2.48, u'Strongest Storm: Four Notes: ')\n",
        "(1907, 5, 0, 0, 0, 1e-06, u'Strongest Storm: One Notes: One of two seasons with no recorded hurricanes')\n",
        "(1908, 10, 6, 1, 0, 1e-06, u'Strongest Storm: Six Notes: Includes the only known March tropical cyclone in the basin')\n",
        "(1909, 11, 6, 4, 4614, 75, u'Strongest Storm: \"Grand Isle\" Notes: ')\n",
        "(1910, 5, 3, 1, 100, 1.25, u'Strongest Storm: \"Cuba\" Notes: ')\n",
        "(1911, 6, 3, 0, 27, 3, u'Strongest Storm: Three Notes: ')\n",
        "(1912, 7, 4, 1, 116, 0.067, u'Strongest Storm: Seven Notes: ')\n",
        "(1913, 6, 4, 0, 5, 4, u'Strongest Storm: Four Notes: ')\n",
        "(1914, 1, 0, 0, 0, 1e-06, u'Strongest Storm: One Notes: Least active season on record\\nOne of two seasons with no recorded hurricanes')\n",
        "(1915, 6, 5, 4, 675, 63, u'Strongest Storm: \"New Orleans\" Notes: ')\n",
        "(1916, 15, 10, 5, 31, 5.9, u'Strongest Storm: \"Texas\" Notes: ')\n",
        "(1917, 4, 2, 2, 5, 0.17, u'Strongest Storm: \"Nueva Gerona\" Notes: ')\n",
        "(1918, 6, 4, 1, 34, 5, u'Strongest Storm: One Notes: ')\n",
        "(1919, 5, 2, 1, 900, 22, u'Strongest Storm: \"Florida Keys\" Notes: ')\n",
        "(1920, 5, 4, 0, 2, 15.75, u'Strongest Storm: One Notes: ')\n",
        "(1921, 7, 5, 2, 6, 36.5, u'Strongest Storm: \"Tampa Bay\" Notes: ')\n",
        "(1922, 5, 3, 1, 0, 1e-06, u'Strongest Storm: Two Notes: ')\n",
        "(1923, 9, 4, 1, 0, 1e-06, u'Strongest Storm: Five Notes: ')\n",
        "(1924, 11, 5, 2, 150, 1e-06, u'Strongest Storm: \"Cuba\" Notes: The earliest officially classified Category 5 Atlantic hurricane on the Saffir\\u2013Simpson Scale')\n",
        "(1925, 4, 2, 0, 59, 19.9, u'Strongest Storm: One Notes: ')\n",
        "(1926, 11, 8, 6, 1315, 1400, u'Strongest Storm: \"Miami\" Notes: ')\n",
        "(1927, 8, 4, 1, 184, 1e-06, u'Strongest Storm: \"Nova Scotia\" Notes: ')\n",
        "(1928, 6, 4, 1, 4000, 952.5, u'Strongest Storm: \"Okeechobee\" Notes: The only recorded hurricane to strike Puerto Rico at Category 5 strength')\n",
        "(1929, 5, 3, 1, 51, 9, u'Strongest Storm: \"Florida\" Notes: ')\n",
        "(1930, 3, 2, 2, 8000, 50, u'Strongest Storm: \"Dominican Republic\" Notes: The fifth deadliest hurricane on record')\n",
        "(1931, 13, 3, 1, 2502, 7.5, u'Strongest Storm: \"Belize\" Notes: ')\n",
        "(1932, 15, 6, 4, 3315, 37, u'Strongest Storm: \"Cuba\" Notes: Two Category 5 hurricanes; one in November (the latest such on record); three major hurricanes made landfall')\n",
        "(1933, 20, 11, 6, 651, 86.6, u'Strongest Storm: \"Tampico\" Notes: Second most active season on record; Two Category 5 hurricanes')\n",
        "(1934, 13, 7, 1, 2017, 4.26, u'Strongest Storm: Thirteen Notes: ')\n",
        "(1935, 8, 5, 3, 2604, 12.5, u'Strongest Storm: \"Labor Day\" Notes: The most intense landfalling tropical cyclone in the Atlantic')\n",
        "(1936, 17, 7, 1, 5, 1.23, u'Strongest Storm: Thirteen Notes: ')\n",
        "(1937, 11, 4, 1, 0, 1e-06, u'Strongest Storm: Six Notes: ')\n",
        "(1938, 9, 4, 2, 700, 290.3, u'Strongest Storm: \"New England\" Notes: Earliest starting season on record (January 3)')\n",
        "(1939, 6, 3, 1, 5, 1e-06, u'Strongest Storm: Five Notes: ')\n",
        "(1940, 9, 6, 0, 101, 4.7, u'Strongest Storm: Four Notes: ')\n",
        "(1941, 6, 4, 3, 63, 10, u'Strongest Storm: \"Florida\" Notes: ')\n",
        "(1942, 11, 4, 1, 17, 30.6, u'Strongest Storm: Three Notes: ')\n",
        "(1943, 10, 5, 2, 19, 17.2, u'Strongest Storm: Three Notes: First year of Hurricane Hunters')\n",
        "(1944, 14, 8, 3, 1153, 202, u'Strongest Storm: \"Great Atlantic\" Notes: ')\n",
        "(1945, 11, 5, 2, 80, 80, u'Strongest Storm: \"Southeast Florida\" Notes: ')\n",
        "(1946, 7, 3, 0, 5, 5.2, u'Strongest Storm: Four Notes: ')\n",
        "(1947, 10, 5, 2, 94, 145.3, u'Strongest Storm: \"Fort Lauderdale\" Notes: First year of Atlantic tropical cyclone naming.[15]')\n",
        "(1948, 10, 6, 4, 94, 30.9, u'Strongest Storm: \"Miami\" Notes: ')\n",
        "(1949, 16, 7, 3, 3, 58.2, u'Strongest Storm: \"Florida\" Notes: ')\n",
        "(1950, 13, 11, 8, 20, 37, u'Strongest Storm: Dog Retired Names: None Notes: Record 8 tropical storms in October')\n",
        "(1951, 10, 8, 5, 257, 80, u'Strongest Storm: Easy Retired Names: None Notes: ')\n",
        "(1952, 7, 6, 3, 47, 3.75, u'Strongest Storm: Fox Retired Names: None Notes: Includes the only known February tropical cyclone in the basin')\n",
        "(1953, 14, 6, 4, 1, 6, u'Strongest Storm: Carol Retired Names: None Notes: First year of female names for storms\\nOne of only 4 seasons to have both a preseason and postseason storm')\n",
        "(1954, 11, 8, 2, 1069, 752, u'Strongest Storm: Hazel Retired Names: Carol, Edna, Hazel Notes: Includes Alice, one of only two storms in the basin to span two calendar years')\n",
        "(1955, 12, 9, 6, 1518, 1200, u'Strongest Storm: Janet Retired Names: Connie, Diane, Ione, Janet Notes: ')\n",
        "(1956, 12, 4, 1, 76, 67.8, u'Strongest Storm: Betsy Retired Names: None Notes: ')\n",
        "(1957, 8, 3, 2, 513, 152.5, u'Strongest Storm: Carrie Retired Names: Audrey Notes: ')\n",
        "(1958, 12, 7, 3, 41, 12, u'Strongest Storm: Helene Retired Names: None Notes: ')\n",
        "(1959, 14, 7, 2, 59, 23.3, u\"Strongest Storm: Gracie Retired Names: Gracie* Notes: Status of Gracie's retirement is unclear\")\n",
        "(1960, 8, 4, 2, 385, 410, u'Strongest Storm: Donna Retired Names: Donna Notes: Current extent of the reanalysis project as of July 2016')\n",
        "(1961, 11, 8, 7, 345, 392, u'Strongest Storm: Hattie Retired Names: Carla, Hattie Notes: Two Category 5 Hurricanes\\nTied for most major hurricanes')\n",
        "(1962, 5, 3, 1, 4, 10, u'Strongest Storm: Ella Retired Names: None Notes: ')\n",
        "(1963, 9, 7, 2, 7225, 589, u'Strongest Storm: Flora Retired Names: Flora Notes: The sixth deadliest hurricane on record')\n",
        "(1964, 12, 6, 6, 261, 605, u'Strongest Storm: Hilda Retired Names: Cleo, Dora, Hilda Notes: ')\n",
        "(1965, 6, 4, 1, 76, 1450, u'Strongest Storm: Betsy Retired Names: Betsy Notes: ')\n",
        "(1966, 11, 7, 3, 1094, 410, u'Strongest Storm: Inez Retired Names: Inez Notes: One named storm de-classified in post-analysis')\n",
        "(1967, 8, 6, 1, 64, 217, u'Strongest Storm: Beulah Retired Names: Beulah Notes: ')\n",
        "(1968, 8, 4, 0, 10, 10, u'Strongest Storm: Gladys Retired Names: None Notes: The name \"Edna\" was retired due to the storm in 1954, also includes one subtropical storm\\nNo major hurricanes')\n",
        "(1969, 18, 12, 5, 364, 1700, u'Strongest Storm: Camille Retired Names: Camille Notes: Fourth most active season on record\\nTied for second most hurricanes in a season on record\\nIncludes one subtropical storm')\n",
        "(1970, 10, 5, 2, 71, 454, u'Strongest Storm: Celia Retired Names: Celia Notes: ')\n",
        "(1971, 13, 6, 1, 45, 213, u'Strongest Storm: Edith Retired Names: None Notes: Includes first documented Hurricane to cross Central America, Irene')\n",
        "(1972, 7, 3, 0, 122, 2100, u'Strongest Storm: Betty Retired Names: Agnes Notes: Includes three subtropical storms\\nNo major hurricanes')\n",
        "(1973, 8, 4, 1, 15, 18, u'Strongest Storm: Ellen Retired Names: None Notes: Includes one subtropical storm')\n",
        "(1974, 11, 4, 2, 8260, 1970, u'Strongest Storm: Carmen Retired Names: Carmen, Fifi Notes: Includes four subtropical storms\\nFifi was the fourth deadliest hurricane on record')\n",
        "(1975, 9, 6, 3, 80, 100, u'Strongest Storm: Gladys Retired Names: Eloise Notes: Includes one subtropical storm')\n",
        "(1976, 10, 6, 2, 72, 100, u'Strongest Storm: Belle Retired Names: None Notes: Includes two subtropical storms')\n",
        "(1977, 6, 5, 1, 10, 10, u'Strongest Storm: Anita Retired Names: Anita Notes: ')\n",
        "(1978, 12, 5, 2, 37, 45, u'Strongest Storm: Greta Retired Names: Greta Notes: Includes the January subtropical storm in the Atlantic')\n",
        "(1979, 9, 5, 2, 2118, 4300, u'Strongest Storm: David Retired Names: David, Frederic Notes: First year for alternating male/female names\\nIncludes one subtropical storm')\n",
        "(1980, 11, 9, 2, 256, 1000, u'Strongest Storm: Allen Retired Names: Allen Notes: ')\n",
        "(1981, 12, 7, 3, 10, 45, u'Strongest Storm: Harvey Retired Names: None Notes: ')\n",
        "(1982, 6, 2, 1, 141, 100, u'Strongest Storm: Debby Retired Names: None Notes: Includes one subtropical storm')\n",
        "(1983, 4, 3, 1, 22, 2600, u'Strongest Storm: Alicia Retired Names: Alicia Notes: Least active hurricane season in the satellite era')\n",
        "(1984, 13, 5, 1, 35, 66, u'Strongest Storm: Diana Retired Names: None Notes: Includes one subtropical storm')\n",
        "(1985, 11, 7, 3, 241, 4500, u'Strongest Storm: Gloria Retired Names: Elena, Gloria Notes: Hurricane Kate struck Florida on November 21, the latest United States hurricane landfall')\n",
        "(1986, 6, 4, 0, 70, 57, u'Strongest Storm: Earl Retired Names: None Notes: No major hurricanes')\n",
        "(1987, 7, 3, 1, 10, 73, u'Strongest Storm: Emily Retired Names: None Notes: ')\n",
        "(1988, 12, 5, 3, 550, 7000, u'Strongest Storm: Gilbert Retired Names: Gilbert, Joan Notes: Included strongest hurricane on record until 2005, First hurricane since 1978 to cross Central America')\n",
        "(1989, 11, 7, 2, 112, 10700, u'Strongest Storm: Hugo Retired Names: Hugo Notes: ')\n",
        "(1990, 14, 8, 1, 116, 150, u'Strongest Storm: Gustav Retired Names: Diana, Klaus Notes: No tropical storms or hurricanes made landfall in the United States')\n",
        "(1991, 8, 4, 2, 30, 2500, u'Strongest Storm: Claudette Retired Names: Bob Notes: ')\n",
        "(1992, 7, 4, 1, 66, 26000, u'Strongest Storm: Andrew Retired Names: Andrew Notes: Hurricane Andrew was the costliest U.S. hurricane until 2005\\nIncludes one subtropical storm')\n",
        "(1993, 8, 4, 1, 274, 271, u'Strongest Storm: Emily Retired Names: None Notes: ')\n",
        "(1994, 7, 3, 0, 1184, 1560, u'Strongest Storm: Florence Retired Names: None Notes: No major hurricanes')\n",
        "(1995, 19, 11, 5, 115, 9300, u'Strongest Storm: Opal Retired Names: Luis, Marilyn, Opal, Roxanne Notes: Tied for third most active season on record')\n",
        "(1996, 13, 9, 6, 179, 3800, u'Strongest Storm: Edouard Retired Names: Cesar, Fran, Hortense Notes: Cesar was renamed Douglas after it crossed Central America.')\n",
        "(1997, 8, 3, 1, 11, 110, u'Strongest Storm: Erika Retired Names: None Notes: Includes one subtropical storm')\n",
        "(1998, 14, 10, 3, 12000, 12200, u'Strongest Storm: Mitch Retired Names: Georges, Mitch Notes: Four simultaneous hurricanes on September 26, the first time since 1893\\nHurricane Mitch was the deadliest hurricane in over 200\\xa0years')\n",
        "(1999, 12, 8, 5, 465, 5900, u'Strongest Storm: Floyd Retired Names: Floyd, Lenny Notes: Most Category\\xa04 hurricanes on record')\n",
        "(2000, 15, 8, 3, 79, 1200, u'Strongest Storm: Keith Retired Names: Keith Notes: Includes one subtropical storm')\n",
        "(2001, 17, 15, 9, 4, 0.000105, u'Strongest Storm: $7.1\\xa0billion Retired Names: Michelle Notes: Allison, Iris, Michelle')\n",
        "(2002, 12, 4, 2, 23, 2600, u'Strongest Storm: Isidore Retired Names: Isidore, Lili Notes: Record-tying 8 named storms formed in September')\n",
        "(2003, 16, 7, 3, 92, 4400, u'Strongest Storm: Isabel Retired Names: Fabian, Isabel, Juan Notes: 3 off-season storms')\n",
        "(2004, 15, 9, 6, 3100, 50000, u'Strongest Storm: Ivan Retired Names: Charley, Frances, Ivan, Jeanne Notes: Includes one subtropical storm\\nRecord-tying 8 named storms forming in August')\n",
        "(2005, 28, 15, 7, 2280, 159000, u\"Strongest Storm: Wilma Retired Names: Dennis, Katrina, Rita, Stan, Wilma Notes: Costliest season on record\\nSeason holds most activity records, including cyclones, storms, hurricanes, major hurricanes and Category 5's (4)\\nMost retired names\\nFirst year to use the Greek alphabet.\\nIncludes 1 Subtropical storm and 1 Subtropical depression.\")\n",
        "(2006, 10, 5, 2, 14, 500, u'Strongest Storm: Gordon and Helene Retired Names: None Notes: ')\n",
        "(2007, 15, 6, 2, 423, 3000, u'Strongest Storm: Dean Retired Names: Dean, Felix, Noel Notes: Includes one subtropical storm\\nTwo Category 5 Hurricanes')\n",
        "(2008, 16, 8, 5, 1047, 42000, u'Strongest Storm: Ike Retired Names: Gustav, Ike, Paloma Notes: Tied for fifth most active season on record\\nOnly year on record in which a major hurricane existed in every month from July through November')\n",
        "(2009, 9, 3, 2, 6, 77, u'Strongest Storm: Bill Retired Names: None Notes: ')\n",
        "(2010, 19, 12, 5, 314, 12360, u'Strongest Storm: Igor Retired Names: Igor, Tomas Notes: Tied for third most active season on record\\nTied for second most hurricanes in a season on record\\nRecord tying 8 named storms forming in September')\n",
        "(2011, 19, 7, 4, 114, 18590, u'Strongest Storm: Ophelia Retired Names: Irene Notes: Tied for third most active season on record')\n",
        "(2012, 19, 10, 2, 354, 77970, u'Strongest Storm: Sandy Retired Names: Sandy Notes: Tied for third most active season\\nTied (with 2016) for most active season before July\\nRecord tying 8 named storms forming in August')\n",
        "(2013, 14, 2, 0, 47, 1510, u'Strongest Storm: Humberto Retired Names: Ingrid Notes: Includes one subtropical storm\\nNo major hurricanes\\nTied (with 1982) for fewest hurricanes since 1930')\n",
        "(2014, 8, 6, 2, 17, 232, u'Strongest Storm: Gonzalo Retired Names: None Notes: ')\n",
        "(2015, 11, 4, 2, 89, 648.7, u'Strongest Storm: Joaquin Retired Names: Erika, Joaquin Notes: ')\n",
        "(2016, 13, 5, 2, 83, 551.15, u'Strongest Storm: Matthew Retired Names:  Notes: Earliest start since 1938\\nRecord for earliest formation of 3rd and 4th storm\\nTied (with 2012) for most active season before July')\n"
       ]
      }
     ],
     "prompt_number": 5
    },
    {
     "cell_type": "markdown",
     "metadata": {},
     "source": [
      "6\\. Create a query of your own to have your group answer. Post it along with your file (so people don't have to download your zip file to read it)."
     ]
    },
    {
     "cell_type": "markdown",
     "metadata": {},
     "source": []
    },
    {
     "cell_type": "markdown",
     "metadata": {},
     "source": [
      "## Group Discussion\n",
      "\n",
      "1. Answer one member's #6 query.\n",
      "2. What is the granularity of this data? (Are the rows the most specific observation possible?)\n",
      "3. Each section links to details about each hurrican season. Review each Season's page and discussion strategies for extracting the information for every hurricane."
     ]
    }
   ],
   "metadata": {}
  }
 ]
}